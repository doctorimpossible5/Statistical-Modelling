{
 "cells": [
  {
   "cell_type": "code",
   "execution_count": 1,
   "metadata": {},
   "outputs": [],
   "source": [
    "#imports\n",
    "import numpy as np\n",
    "import pandas as pd\n",
    "import matplotlib.pyplot as plt\n",
    "import math\n",
    "\n",
    "%matplotlib inline"
   ]
  },
  {
   "cell_type": "code",
   "execution_count": 45,
   "metadata": {},
   "outputs": [
    {
     "data": {
      "image/png": "[encoded data removed]",
      "text/plain": [
       "<matplotlib.figure.Figure at 0x7f9cc84134e0>"
      ]
     },
     "metadata": {},
     "output_type": "display_data"
    }
   ],
   "source": [
    "#read in data using panda, assign training data and plot.\n",
    "training_data = pd.read_csv(\"train.csv\")\n",
    "testing_data = pd.read_csv(\"test.csv\")\n",
    "#print(training_data.head())\n",
    "\n",
    "image = training_data.iloc[1, 1:]\n",
    "image = np.array(image).reshape((28, 28))\n",
    "plt.imshow(image)\n",
    "\n",
    "testing_data = training_data.iloc[0:21000, :]\n",
    "training_data = training_data.iloc[21000:, :]"
   ]
  },
  {
   "cell_type": "code",
   "execution_count": 46,
   "metadata": {},
   "outputs": [],
   "source": [
    "#assign answers unique ids\n",
    "def getIds(labels):\n",
    "    classes = labels\n",
    "    uniques = np.unique(classes)\n",
    "    ids = np.zeros((len(classes), len(uniques)))\n",
    "    for i, types in enumerate (uniques):\n",
    "        id = np.zeros(len(uniques))\n",
    "        id[i] = 1\n",
    "        ids[classes == types] = id\n",
    "        \n",
    "    return ids\n",
    "\n",
    "ids = getIds(training_data[\"label\"])\n",
    "ids_test = getIds(testing_data[\"label\"])"
   ]
  },
  {
   "cell_type": "code",
   "execution_count": 47,
   "metadata": {},
   "outputs": [],
   "source": [
    "#Normalizes the data (makes it between 0 and 1)\n",
    "def normalize (a):\n",
    "    maxi = np.max(a)\n",
    "    mini = np.min(a)\n",
    "    return (a - mini) / (maxi - mini)"
   ]
  },
  {
   "cell_type": "code",
   "execution_count": 48,
   "metadata": {},
   "outputs": [],
   "source": [
    "#Figure out what this does\n",
    "def softmax (x):\n",
    "    e_x = np.exp(x - np.max(x))\n",
    "    summations = np.sum(e_x, axis = 1)\n",
    "    summations = summations.reshape(len(summations), 1)\n",
    "    return e_x / summations"
   ]
  },
  {
   "cell_type": "code",
   "execution_count": 49,
   "metadata": {},
   "outputs": [
    {
     "name": "stdout",
     "output_type": "stream",
     "text": [
      "train_y shape (21000, 10)\n",
      "train_x shape (21000, 785)\n",
      "features shape (21000, 784)\n"
     ]
    }
   ],
   "source": [
    "#Create variables to be used later\n",
    "\n",
    "#The various pixels\n",
    "features = training_data.iloc[:,1:]\n",
    "features_test = testing_data.iloc[:,1:]\n",
    "\n",
    "#The training data\n",
    "train_x = np.array(features)\n",
    "train_x = normalize(train_x)\n",
    "constants = np.ones(train_x.shape[0]).reshape(-1, 1)\n",
    "train_x = np.hstack((train_x, constants)) \n",
    "\n",
    "test_x = np.array(features_test)\n",
    "test_x = normalize(test_x)\n",
    "constants = np.ones(test_x.shape[0]).reshape(-1, 1)\n",
    "test_x = np.hstack((test_x, constants)) \n",
    "#ids\n",
    "train_y = ids\n",
    "test_y = ids_test\n",
    "print (\"train_y shape \" + str(train_y.shape))\n",
    "print (\"train_x shape \" + str(train_x.shape))\n",
    "print (\"features shape \" + str(features.shape))"
   ]
  },
  {
   "cell_type": "code",
   "execution_count": 51,
   "metadata": {
    "scrolled": true
   },
   "outputs": [
    {
     "name": "stdout",
     "output_type": "stream",
     "text": [
      "1 0.8529112991476676\n",
      "2 0.8048586251623719\n",
      "3 0.7575362966178553\n",
      "4 0.7126678766674969\n",
      "5 0.6712143881686823\n",
      "6 0.6335795414271315\n",
      "7 0.5997906351821626\n",
      "8 0.5696400058930984\n",
      "9 0.542799054183798\n",
      "10 0.5188980234764695\n",
      "11 0.4975731328117622\n",
      "12 0.4784899407569939\n",
      "13 0.4613521754612439\n",
      "14 0.44590273746070824\n",
      "15 0.43192098655269207\n",
      "16 0.41921858785654537\n",
      "17 0.40763507775972635\n",
      "18 0.3970336887715681\n",
      "19 0.3872976453349464\n",
      "20 0.3783269800910579\n",
      "21 0.3700358452430595\n",
      "22 0.3623502638656552\n",
      "23 0.3552062583594753\n",
      "24 0.3485482957824341\n",
      "25 0.3423279964197014\n",
      "26 0.33650305969866745\n",
      "27 0.33103636904317196\n",
      "28 0.32589524393514174\n",
      "29 0.3210508131536343\n",
      "30 0.3164774879173866\n",
      "31 0.31215251756906537\n",
      "32 0.3080556136312342\n",
      "33 0.3041686306567339\n",
      "34 0.30047529439782295\n",
      "35 0.2969609695213309\n",
      "36 0.29361246047775025\n",
      "37 0.29041784025317335\n",
      "38 0.28736630264485113\n",
      "39 0.284448034444608\n",
      "40 0.28165410452200046\n",
      "41 0.27897636729710923\n",
      "42 0.2764073785021193\n",
      "43 0.2739403214681247\n",
      "44 0.2715689424523905\n",
      "45 0.2692874937523632\n",
      "46 0.2670906835448293\n",
      "47 0.2649736315487513\n",
      "48 0.26293182974418494\n",
      "49 0.2609611074919192\n",
      "[[1.         1.         1.         ... 1.         1.         1.        ]\n",
      " [1.         1.         1.         ... 1.         1.         1.        ]\n",
      " [1.         1.         1.         ... 1.         1.         1.        ]\n",
      " ...\n",
      " [1.         1.         1.         ... 1.         1.         1.        ]\n",
      " [1.         1.         1.         ... 1.         1.         1.        ]\n",
      " [0.94918296 1.10457784 0.97320946 ... 1.05403256 0.88824866 0.98917015]]\n",
      "0.2590576004928275\n",
      "[[2.68204401e-03 9.80530770e-04 7.28485227e-02 ... 2.39230135e-02\n",
      "  7.63161566e-03 3.70922347e-02]\n",
      " [1.28249131e-01 1.37392115e-03 8.95362911e-03 ... 5.70107952e-03\n",
      "  1.93059143e-01 4.71296156e-03]\n",
      " [3.82796202e-02 1.79302517e-03 6.70080335e-02 ... 1.64526116e-04\n",
      "  2.49955245e-01 1.35068096e-03]\n",
      " ...\n",
      " [1.40430987e-02 7.13239731e-05 1.72039899e-04 ... 9.50740888e-01\n",
      "  2.01867710e-03 2.28912725e-02]\n",
      " [2.35356448e-02 6.32925655e-04 1.25628158e-02 ... 1.63519989e-03\n",
      "  1.46011493e-03 3.19232919e-03]\n",
      " [1.92796375e-02 1.37631032e-02 5.68109103e-02 ... 1.17877498e-01\n",
      "  1.00391016e-01 4.76423586e-01]]\n"
     ]
    }
   ],
   "source": [
    "#Main method\n",
    "\n",
    "#Weights for each variable for each unique id\n",
    "weights = np.ones((train_x.shape[1], len(uniques)))\n",
    "#Number of times to run\n",
    "epochs = 50\n",
    "\n",
    "#Amount to increase the step during each loop\n",
    "learning_rate = .2\n",
    "\n",
    "for i in range(epochs):\n",
    "    hypothesis = np.matmul(train_x, weights)\n",
    "    hypothesis = softmax(hypothesis)\n",
    "    errorish = hypothesis - train_y\n",
    "    gradients = np.matmul(np.transpose(train_x), errorish) / train_x.shape[0]\n",
    "    \n",
    "    delta = gradients * learning_rate\n",
    "    weights = weights - delta\n",
    "    \n",
    "    error = (np.sum(errorish ** 2) / errorish.shape[0])\n",
    "    \n",
    "    if (i % 500):\n",
    "        print (i, error)\n",
    "    \n",
    "print (weights)\n",
    "\n",
    "hypothesis = np.matmul(train_x, weights)\n",
    "hypothesis = softmax(hypothesis)\n",
    "\n",
    "errorish = hypothesis - train_y\n",
    "error = (np.sum(errorish ** 2) / errorish.shape[0])\n",
    "\n",
    "print(error)\n",
    "print (hypothesis)\n",
    "\n"
   ]
  },
  {
   "cell_type": "code",
   "execution_count": 52,
   "metadata": {},
   "outputs": [
    {
     "name": "stdout",
     "output_type": "stream",
     "text": [
      "0.8611904761904762\n"
     ]
    },
    {
     "data": {
      "image/png": "[encoded data removed]",
      "text/plain": [
       "<matplotlib.figure.Figure at 0x7f9cee59b080>"
      ]
     },
     "metadata": {},
     "output_type": "display_data"
    }
   ],
   "source": [
    "hypothesis = np.matmul(test_x, weights)\n",
    "hypothesis = softmax(hypothesis)\n",
    "\n",
    "errorish = hypothesis - test_y\n",
    "error = (np.sum(errorish ** 2) / errorish.shape[0])\n",
    "\n",
    "hypothesis_classes = (np.argmax(hypothesis, axis=1))\n",
    "true_classes = np.argmax(test_y, axis=1)\n",
    "\n",
    "plt.imshow (weights[:-1, 9].reshape((28,28)))\n",
    "\n",
    "print ( len(np.where(hypothesis_classes == true_classes)[0]) / len(train_y) )"
   ]
  },
  {
   "cell_type": "code",
   "execution_count": null,
   "metadata": {},
   "outputs": [],
   "source": []
  }
 ],
 "metadata": {
  "kernelspec": {
   "display_name": "Python 3",
   "language": "python",
   "name": "python3"
  },
  "language_info": {
   "codemirror_mode": {
    "name": "ipython",
    "version": 3
   },
   "file_extension": ".py",
   "mimetype": "text/x-python",
   "name": "python",
   "nbconvert_exporter": "python",
   "pygments_lexer": "ipython3",
   "version": "3.6.4"
  }
 },
 "nbformat": 4,
 "nbformat_minor": 2
}
